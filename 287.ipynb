{
 "cells": [
  {
   "cell_type": "markdown",
   "metadata": {},
   "source": [
    "https://leetcode-cn.com/problems/find-the-duplicate-number/description/\n",
    "\n",
    "给定一个包含 n + 1 个整数的数组 nums，其数字都在 1 到 n 之间（包括 1 和 n），可知至少存在一个重复的整数。假设只有一个重复的整数，找出这个重复的数。\n",
    "\n",
    "示例 1:\n",
    "\n",
    "输入: [1,3,4,2,2]\n",
    "输出: 2\n",
    "示例 2:\n",
    "\n",
    "输入: [3,1,3,4,2]\n",
    "输出: 3\n",
    "说明：\n",
    "\n",
    "不能更改原数组（假设数组是只读的）。\n",
    "只能使用额外的 O(1) 的空间。\n",
    "时间复杂度小于 O(n2) 。\n",
    "数组中只有一个重复的数字，但它可能不止重复出现一次。"
   ]
  },
  {
   "cell_type": "code",
   "execution_count": 15,
   "metadata": {},
   "outputs": [],
   "source": []
  },
  {
   "cell_type": "code",
   "execution_count": 45,
   "metadata": {},
   "outputs": [],
   "source": [
    "from functools import reduce\n",
    "import math\n",
    "\n",
    "class Comparator:\n",
    "    def __init__(self, left, right):\n",
    "        self.left = left\n",
    "        self.right = right\n",
    "        \n",
    "    def __str__(self):\n",
    "        return \"{}-{}\".format(self.left, self.right)\n",
    "\n",
    "class Solution:\n",
    "    def findDuplicate(self, nums):\n",
    "        \"\"\"\n",
    "        :type nums: List[int]\n",
    "        :rtype: int\n",
    "        \"\"\"\n",
    "        start = 1\n",
    "        end = len(nums) - 1\n",
    "        candicators = []\n",
    "        \n",
    "        while len(candicators) == 0:\n",
    "            comparator = self.findComparator(start, end)\n",
    "            cLeft = self.countOfNumsInRangeInclude(nums, start, comparator.left)\n",
    "            cRight = self.countOfNumsInRangeInclude(nums, comparator.right, end)\n",
    "            if cLeft == cRight:\n",
    "                candicators.extend([comparator.left, comparator.right])\n",
    "            elif cLeft > cRight:\n",
    "                end = comparator.left\n",
    "            else:\n",
    "                start = comparator.right\n",
    "                \n",
    "        if len(list(filter(lambda n: n == candicators[0], nums))) > 1: \n",
    "            return candicators[0]\n",
    "        if len(list(filter(lambda n: n == candicators[1], nums))) > 1: \n",
    "            return candicators[1]\n",
    "            \n",
    "    \n",
    "    def findComparator(self, start, end):\n",
    "        middle = (start + end) / 2\n",
    "        return Comparator(math.floor(middle), math.ceil(middle))\n",
    "    \n",
    "    def countOfNumsInRangeInclude(self, nums, start, end):\n",
    "        return len(list(filter(lambda n: n >= start and n <= end, nums)))\n",
    "        \n",
    "        "
   ]
  },
  {
   "cell_type": "code",
   "execution_count": 46,
   "metadata": {},
   "outputs": [],
   "source": [
    "def test():\n",
    "    solution = Solution()\n",
    "    # find comparator\n",
    "    assert str(solution.findComparator(1, 10)) == \"5-6\"\n",
    "    assert str(solution.findComparator(5, 7)) == \"6-6\"\n",
    "    assert str(solution.findComparator(8, 9)) == \"8-9\"\n",
    "    assert str(solution.findComparator(100, 100)) == \"100-100\"\n",
    "    \n",
    "    # count of nums in range\n",
    "    assert solution.countOfNumsInRangeInclude([1, 2, 3, 4, 5, 6, 6, 7], 1, 8) == 8\n",
    "    assert solution.countOfNumsInRangeInclude([1, 2, 3, 4, 5, 6, 6, 7], 6, 7) == 3\n",
    "    assert solution.countOfNumsInRangeInclude([1, 2, 3, 4, 5, 6, 6, 7], 6, 6) == 2\n",
    "    \n",
    "    # find duplicat4e\n",
    "    assert solution.findDuplicate([1, 2, 2]) == 2\n",
    "    assert solution.findDuplicate([1, 1]) == 1\n",
    "    assert solution.findDuplicate([3, 3, 3, 3, 3, 3, 3]) == 3\n",
    "    assert solution.findDuplicate(list(range(1, 10000000)) + [1000]) == 1000\n",
    "    print(\"\\nall passed\")"
   ]
  },
  {
   "cell_type": "code",
   "execution_count": 47,
   "metadata": {},
   "outputs": [
    {
     "name": "stdout",
     "output_type": "stream",
     "text": [
      "\n",
      "all passed\n"
     ]
    }
   ],
   "source": [
    "test()"
   ]
  },
  {
   "cell_type": "code",
   "execution_count": null,
   "metadata": {},
   "outputs": [],
   "source": []
  }
 ],
 "metadata": {
  "kernelspec": {
   "display_name": "Python 3",
   "language": "python",
   "name": "python3"
  },
  "language_info": {
   "codemirror_mode": {
    "name": "ipython",
    "version": 3
   },
   "file_extension": ".py",
   "mimetype": "text/x-python",
   "name": "python",
   "nbconvert_exporter": "python",
   "pygments_lexer": "ipython3",
   "version": "3.6.5"
  }
 },
 "nbformat": 4,
 "nbformat_minor": 2
}
